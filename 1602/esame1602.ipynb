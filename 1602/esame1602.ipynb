{
 "cells": [
  {
   "cell_type": "code",
   "execution_count": 1,
   "metadata": {
    "collapsed": true
   },
   "outputs": [],
   "source": [
    "import pandas as pd\n",
    "import numpy as np"
   ]
  },
  {
   "cell_type": "code",
   "execution_count": 2,
   "metadata": {
    "collapsed": true
   },
   "outputs": [],
   "source": [
    "%matplotlib inline\n",
    "import matplotlib.pyplot as plt"
   ]
  },
  {
   "cell_type": "markdown",
   "metadata": {},
   "source": [
    "## Esercizio II"
   ]
  },
  {
   "cell_type": "code",
   "execution_count": 3,
   "metadata": {},
   "outputs": [],
   "source": [
    "df = pd.read_csv('dati.txt', sep=\";\", na_values=[' '])"
   ]
  },
  {
   "cell_type": "code",
   "execution_count": 4,
   "metadata": {},
   "outputs": [
    {
     "data": {
      "text/html": [
       "<div>\n",
       "<style scoped>\n",
       "    .dataframe tbody tr th:only-of-type {\n",
       "        vertical-align: middle;\n",
       "    }\n",
       "\n",
       "    .dataframe tbody tr th {\n",
       "        vertical-align: top;\n",
       "    }\n",
       "\n",
       "    .dataframe thead th {\n",
       "        text-align: right;\n",
       "    }\n",
       "</style>\n",
       "<table border=\"1\" class=\"dataframe\">\n",
       "  <thead>\n",
       "    <tr style=\"text-align: right;\">\n",
       "      <th></th>\n",
       "      <th>PROVINCIA</th>\n",
       "      <th>C6H6</th>\n",
       "      <th>SO2</th>\n",
       "      <th>CO</th>\n",
       "      <th>NO2</th>\n",
       "      <th>O3</th>\n",
       "      <th>O3_GIORNI_SUPERAMENTO_TOLLERANZA</th>\n",
       "      <th>O3_GIORNI_SUPERAMENTO_ALLARME</th>\n",
       "      <th>PM10</th>\n",
       "      <th>PM2_5</th>\n",
       "      <th>Pb</th>\n",
       "      <th>As</th>\n",
       "      <th>Ni</th>\n",
       "      <th>Cd</th>\n",
       "      <th>BaP</th>\n",
       "    </tr>\n",
       "  </thead>\n",
       "  <tbody>\n",
       "    <tr>\n",
       "      <th>0</th>\n",
       "      <td>BG</td>\n",
       "      <td>1.0</td>\n",
       "      <td>3.0</td>\n",
       "      <td>0.5</td>\n",
       "      <td>30.0</td>\n",
       "      <td>55.0</td>\n",
       "      <td>16.0</td>\n",
       "      <td>1.0</td>\n",
       "      <td>30.0</td>\n",
       "      <td>21.0</td>\n",
       "      <td>NaN</td>\n",
       "      <td>NaN</td>\n",
       "      <td>NaN</td>\n",
       "      <td>NaN</td>\n",
       "      <td>NaN</td>\n",
       "    </tr>\n",
       "    <tr>\n",
       "      <th>1</th>\n",
       "      <td>BG</td>\n",
       "      <td>NaN</td>\n",
       "      <td>NaN</td>\n",
       "      <td>NaN</td>\n",
       "      <td>24.0</td>\n",
       "      <td>42.0</td>\n",
       "      <td>4.0</td>\n",
       "      <td>0.0</td>\n",
       "      <td>37.0</td>\n",
       "      <td>29.0</td>\n",
       "      <td>0.014</td>\n",
       "      <td>1.5</td>\n",
       "      <td>4.0</td>\n",
       "      <td>0.2</td>\n",
       "      <td>0.5</td>\n",
       "    </tr>\n",
       "    <tr>\n",
       "      <th>2</th>\n",
       "      <td>BG</td>\n",
       "      <td>NaN</td>\n",
       "      <td>NaN</td>\n",
       "      <td>NaN</td>\n",
       "      <td>25.0</td>\n",
       "      <td>55.0</td>\n",
       "      <td>23.0</td>\n",
       "      <td>2.0</td>\n",
       "      <td>NaN</td>\n",
       "      <td>NaN</td>\n",
       "      <td>NaN</td>\n",
       "      <td>NaN</td>\n",
       "      <td>NaN</td>\n",
       "      <td>NaN</td>\n",
       "      <td>NaN</td>\n",
       "    </tr>\n",
       "    <tr>\n",
       "      <th>3</th>\n",
       "      <td>BG</td>\n",
       "      <td>NaN</td>\n",
       "      <td>3.0</td>\n",
       "      <td>NaN</td>\n",
       "      <td>NaN</td>\n",
       "      <td>NaN</td>\n",
       "      <td>NaN</td>\n",
       "      <td>NaN</td>\n",
       "      <td>NaN</td>\n",
       "      <td>NaN</td>\n",
       "      <td>NaN</td>\n",
       "      <td>NaN</td>\n",
       "      <td>NaN</td>\n",
       "      <td>NaN</td>\n",
       "      <td>NaN</td>\n",
       "    </tr>\n",
       "    <tr>\n",
       "      <th>4</th>\n",
       "      <td>BG</td>\n",
       "      <td>NaN</td>\n",
       "      <td>NaN</td>\n",
       "      <td>NaN</td>\n",
       "      <td>32.0</td>\n",
       "      <td>NaN</td>\n",
       "      <td>NaN</td>\n",
       "      <td>NaN</td>\n",
       "      <td>NaN</td>\n",
       "      <td>25.0</td>\n",
       "      <td>NaN</td>\n",
       "      <td>NaN</td>\n",
       "      <td>NaN</td>\n",
       "      <td>NaN</td>\n",
       "      <td>NaN</td>\n",
       "    </tr>\n",
       "  </tbody>\n",
       "</table>\n",
       "</div>"
      ],
      "text/plain": [
       "  PROVINCIA  C6H6  SO2   CO   NO2    O3  O3_GIORNI_SUPERAMENTO_TOLLERANZA  \\\n",
       "0        BG   1.0  3.0  0.5  30.0  55.0                              16.0   \n",
       "1        BG   NaN  NaN  NaN  24.0  42.0                               4.0   \n",
       "2        BG   NaN  NaN  NaN  25.0  55.0                              23.0   \n",
       "3        BG   NaN  3.0  NaN   NaN   NaN                               NaN   \n",
       "4        BG   NaN  NaN  NaN  32.0   NaN                               NaN   \n",
       "\n",
       "   O3_GIORNI_SUPERAMENTO_ALLARME  PM10  PM2_5     Pb   As   Ni   Cd  BaP  \n",
       "0                            1.0  30.0   21.0    NaN  NaN  NaN  NaN  NaN  \n",
       "1                            0.0  37.0   29.0  0.014  1.5  4.0  0.2  0.5  \n",
       "2                            2.0   NaN    NaN    NaN  NaN  NaN  NaN  NaN  \n",
       "3                            NaN   NaN    NaN    NaN  NaN  NaN  NaN  NaN  \n",
       "4                            NaN   NaN   25.0    NaN  NaN  NaN  NaN  NaN  "
      ]
     },
     "execution_count": 4,
     "metadata": {},
     "output_type": "execute_result"
    }
   ],
   "source": [
    "df.head()"
   ]
  },
  {
   "cell_type": "markdown",
   "metadata": {},
   "source": [
    "1 - Quante centraline sono presenti in Lombardia?"
   ]
  },
  {
   "cell_type": "code",
   "execution_count": 5,
   "metadata": {},
   "outputs": [
    {
     "data": {
      "text/plain": [
       "150"
      ]
     },
     "execution_count": 5,
     "metadata": {},
     "output_type": "execute_result"
    }
   ],
   "source": [
    "len(df)"
   ]
  },
  {
   "cell_type": "markdown",
   "metadata": {},
   "source": [
    "2 - Come sono distribuite le centraline nelle diverse province della Lombardia? Rispondere con un grafico."
   ]
  },
  {
   "cell_type": "code",
   "execution_count": 6,
   "metadata": {},
   "outputs": [
    {
     "data": {
      "text/plain": [
       "MI    36\n",
       "BG    16\n",
       "MN    16\n",
       "PV    13\n",
       "BS    13\n",
       "LO    10\n",
       "CR    10\n",
       "VA     9\n",
       "LC     9\n",
       "MB     7\n",
       "SO     6\n",
       "CO     5\n",
       "Name: PROVINCIA, dtype: int64"
      ]
     },
     "execution_count": 6,
     "metadata": {},
     "output_type": "execute_result"
    }
   ],
   "source": [
    "dist = df.PROVINCIA.value_counts()\n",
    "dist"
   ]
  },
  {
   "cell_type": "code",
   "execution_count": 7,
   "metadata": {},
   "outputs": [
    {
     "data": {
      "image/png": "[encoded data removed]",
      "text/plain": [
       "<matplotlib.figure.Figure at 0x113282ba8>"
      ]
     },
     "metadata": {},
     "output_type": "display_data"
    }
   ],
   "source": [
    "dist.plot.pie()\n",
    "plt.axis('equal')\n",
    "plt.show()"
   ]
  },
  {
   "cell_type": "markdown",
   "metadata": {},
   "source": [
    "3 - Quale provincia è meno rappresentata? Qual è la più rappresentata?"
   ]
  },
  {
   "cell_type": "markdown",
   "metadata": {},
   "source": [
    "Como, Milano"
   ]
  },
  {
   "cell_type": "markdown",
   "metadata": {},
   "source": [
    "4 - Calcolare l'indice di eterogeneità per il carattere PROVINCIA e commentare il risultato ottenuto (che cosa mi dice sul carattere PROVINCIA il valore di tale indice?)"
   ]
  },
  {
   "cell_type": "markdown",
   "metadata": {},
   "source": [
    "Ricordiamo che l'indice di Gini è un indice di eterogeneità che varia tra 0 e 1. Il valore minimo si ha quando tutti i valori del campione sono uguali (eterogeneità minima/omogeneità massima), mentre assume il valore massimo quando tutti gli $n$ elementi del campione appaiono con la medesima frequenza $1/n$:\n",
    "\n",
    "$$ I = 1 - \\sum_{i=1}^n f_i^2 $$"
   ]
  },
  {
   "cell_type": "code",
   "execution_count": 8,
   "metadata": {
    "collapsed": true
   },
   "outputs": [],
   "source": [
    "def gini(series):\n",
    "    return 1 - sum(series.value_counts(normalize=True).map(lambda f: f**2))"
   ]
  },
  {
   "cell_type": "code",
   "execution_count": 9,
   "metadata": {},
   "outputs": [
    {
     "name": "stdout",
     "output_type": "stream",
     "text": [
      "0.8836444444444445\n"
     ]
    }
   ],
   "source": [
    "print(gini(df.PROVINCIA))"
   ]
  },
  {
   "cell_type": "markdown",
   "metadata": {},
   "source": [
    "In questo caso il valore di 0.88 ci indica che siamo in presenza di una eterogeneità elevata. Infatti, andiamo da un minimo di 5 centraline per Como ad un massimo di 36 per Milano, con valori piuttosto diversi nel mezzo."
   ]
  },
  {
   "cell_type": "markdown",
   "metadata": {},
   "source": [
    "#### Consideriamo le concentrazioni degli inquinanti C6H6, SO2, CO.\n",
    "\n",
    "5 - Per ciascuno di essi indicare in Tabella 1 media, mediana, deviazione standard e distanza interquartile."
   ]
  },
  {
   "cell_type": "code",
   "execution_count": 10,
   "metadata": {},
   "outputs": [
    {
     "data": {
      "text/plain": [
       "count    27.00000\n",
       "mean      1.32963\n",
       "std       0.74256\n",
       "min       0.30000\n",
       "25%       0.90000\n",
       "50%       1.10000\n",
       "75%       1.75000\n",
       "max       3.60000\n",
       "Name: C6H6, dtype: float64"
      ]
     },
     "execution_count": 10,
     "metadata": {},
     "output_type": "execute_result"
    }
   ],
   "source": [
    "df.C6H6.describe()"
   ]
  },
  {
   "cell_type": "markdown",
   "metadata": {},
   "source": [
    "6 - Mettere a confronto i tre inquinanti tramite un'opportuna modalità grafica, commentando il grafico ottenuto"
   ]
  },
  {
   "cell_type": "code",
   "execution_count": 11,
   "metadata": {},
   "outputs": [
    {
     "data": {
      "image/png": "[encoded data removed]",
      "text/plain": [
       "<matplotlib.figure.Figure at 0x115eca940>"
      ]
     },
     "metadata": {},
     "output_type": "display_data"
    }
   ],
   "source": [
    "df.C6H6.plot(kind='hist', bins=30, legend=True)\n",
    "df.SO2.plot(kind='hist', bins=30, legend=True)\n",
    "df.CO.plot(kind='hist', bins=30, legend=True)\n",
    "plt.xlabel('Concentrazione')\n",
    "plt.show()"
   ]
  },
  {
   "cell_type": "markdown",
   "metadata": {},
   "source": [
    "#### Consideriamo la concentrazione di ozono O3."
   ]
  },
  {
   "cell_type": "markdown",
   "metadata": {},
   "source": [
    "9 - Calcolare la tabella delle frequenze relative della concentrazione annuale."
   ]
  },
  {
   "cell_type": "code",
   "execution_count": 12,
   "metadata": {},
   "outputs": [
    {
     "data": {
      "text/plain": [
       "47.0    0.296296\n",
       "42.0    0.259259\n",
       "50.0    0.185185\n",
       "44.0    0.185185\n",
       "40.0    0.185185\n",
       "55.0    0.148148\n",
       "48.0    0.148148\n",
       "37.0    0.148148\n",
       "46.0    0.148148\n",
       "45.0    0.111111\n",
       "41.0    0.111111\n",
       "38.0    0.111111\n",
       "60.0    0.074074\n",
       "43.0    0.074074\n",
       "35.0    0.074074\n",
       "39.0    0.074074\n",
       "61.0    0.037037\n",
       "56.0    0.037037\n",
       "34.0    0.037037\n",
       "93.0    0.037037\n",
       "53.0    0.037037\n",
       "51.0    0.037037\n",
       "52.0    0.037037\n",
       "59.0    0.037037\n",
       "49.0    0.037037\n",
       "54.0    0.037037\n",
       "58.0    0.037037\n",
       "Name: O3, dtype: float64"
      ]
     },
     "execution_count": 12,
     "metadata": {},
     "output_type": "execute_result"
    }
   ],
   "source": [
    "series = df.O3.value_counts()\n",
    "series / len(series)"
   ]
  },
  {
   "cell_type": "markdown",
   "metadata": {},
   "source": [
    "10 - Tracciare il grafico della funzione cumulativa empirica di O3."
   ]
  },
  {
   "cell_type": "code",
   "execution_count": 13,
   "metadata": {},
   "outputs": [
    {
     "data": {
      "image/png": "[encoded data removed]",
      "text/plain": [
       "<matplotlib.figure.Figure at 0x11da5ec18>"
      ]
     },
     "metadata": {},
     "output_type": "display_data"
    }
   ],
   "source": [
    "df.O3.hist(bins=30, cumulative=True)\n",
    "plt.xlabel('Concentrazione')\n",
    "plt.ylabel('Num campioni <= y')\n",
    "plt.show()"
   ]
  },
  {
   "cell_type": "markdown",
   "metadata": {},
   "source": [
    "11 - Quante centraline hanno registrato una concentrazione uguale a 46 mg/mcubo?"
   ]
  },
  {
   "cell_type": "markdown",
   "metadata": {},
   "source": [
    "4, vedi sotto.."
   ]
  },
  {
   "cell_type": "code",
   "execution_count": 14,
   "metadata": {},
   "outputs": [
    {
     "data": {
      "text/plain": [
       "47.0    8\n",
       "42.0    7\n",
       "50.0    5\n",
       "44.0    5\n",
       "40.0    5\n",
       "55.0    4\n",
       "48.0    4\n",
       "37.0    4\n",
       "46.0    4\n",
       "45.0    3\n",
       "41.0    3\n",
       "38.0    3\n",
       "60.0    2\n",
       "43.0    2\n",
       "35.0    2\n",
       "39.0    2\n",
       "61.0    1\n",
       "56.0    1\n",
       "34.0    1\n",
       "93.0    1\n",
       "53.0    1\n",
       "51.0    1\n",
       "52.0    1\n",
       "59.0    1\n",
       "49.0    1\n",
       "54.0    1\n",
       "58.0    1\n",
       "Name: O3, dtype: int64"
      ]
     },
     "execution_count": 14,
     "metadata": {},
     "output_type": "execute_result"
    }
   ],
   "source": [
    "series"
   ]
  },
  {
   "cell_type": "markdown",
   "metadata": {},
   "source": [
    "12 - Quante centraline hanno registrato una concentrazione compresa tra i 45 e i 50 mg/mcubo, estremi inclusi?"
   ]
  },
  {
   "cell_type": "code",
   "execution_count": 15,
   "metadata": {},
   "outputs": [
    {
     "data": {
      "text/plain": [
       "25"
      ]
     },
     "execution_count": 15,
     "metadata": {},
     "output_type": "execute_result"
    }
   ],
   "source": [
    "len(df[(45 <= df.O3) & (df.O3 <= 50)])"
   ]
  },
  {
   "cell_type": "markdown",
   "metadata": {},
   "source": [
    "NOTA: in questo caso \"and\" non funziona e va sostituito con \"&\""
   ]
  },
  {
   "cell_type": "markdown",
   "metadata": {},
   "source": [
    "oppure possiamo usare un comando diverso:"
   ]
  },
  {
   "cell_type": "code",
   "execution_count": 16,
   "metadata": {},
   "outputs": [
    {
     "data": {
      "text/plain": [
       "25"
      ]
     },
     "execution_count": 16,
     "metadata": {},
     "output_type": "execute_result"
    }
   ],
   "source": [
    "len(df[df.O3.between(45, 50, inclusive=True)])"
   ]
  },
  {
   "cell_type": "markdown",
   "metadata": {},
   "source": [
    "13 - Indicare quali valori di O3 sono \"particolarmente\" elevati rispetto agli altri, motivando la risposta con un grafico."
   ]
  },
  {
   "cell_type": "code",
   "execution_count": 17,
   "metadata": {},
   "outputs": [
    {
     "data": {
      "image/png": "[encoded data removed]",
      "text/plain": [
       "<matplotlib.figure.Figure at 0x11da4c898>"
      ]
     },
     "metadata": {},
     "output_type": "display_data"
    }
   ],
   "source": [
    "df.O3.hist(bins=30)\n",
    "plt.xlabel('Concentrazione')\n",
    "plt.show()"
   ]
  },
  {
   "cell_type": "markdown",
   "metadata": {},
   "source": [
    "Il valore 93 è particolarmente elevato rispetto al resto."
   ]
  },
  {
   "cell_type": "markdown",
   "metadata": {},
   "source": [
    "#### Consideriamo la variabile casuale $X =$ numero dei giorni in un anno nei quali viene superata la soglia di tolleranza per l’ozono. Abbiamo a disposizione il campione casuale $X_1, \\ldots , X_n$ di taglia $n = 150$ estratto dalla popolazione $X$ (alla centralina $i$ è associata la variabile $X_i$) e memorizzato nel file scaricato."
   ]
  },
  {
   "cell_type": "markdown",
   "metadata": {},
   "source": [
    "13 - Si fornisca una stima del valore atteso e della deviazione standard di X."
   ]
  },
  {
   "cell_type": "code",
   "execution_count": 18,
   "metadata": {},
   "outputs": [
    {
     "data": {
      "text/html": [
       "<div>\n",
       "<style scoped>\n",
       "    .dataframe tbody tr th:only-of-type {\n",
       "        vertical-align: middle;\n",
       "    }\n",
       "\n",
       "    .dataframe tbody tr th {\n",
       "        vertical-align: top;\n",
       "    }\n",
       "\n",
       "    .dataframe thead th {\n",
       "        text-align: right;\n",
       "    }\n",
       "</style>\n",
       "<table border=\"1\" class=\"dataframe\">\n",
       "  <thead>\n",
       "    <tr style=\"text-align: right;\">\n",
       "      <th></th>\n",
       "      <th>PROVINCIA</th>\n",
       "      <th>C6H6</th>\n",
       "      <th>SO2</th>\n",
       "      <th>CO</th>\n",
       "      <th>NO2</th>\n",
       "      <th>O3</th>\n",
       "      <th>O3_GIORNI_SUPERAMENTO_TOLLERANZA</th>\n",
       "      <th>O3_GIORNI_SUPERAMENTO_ALLARME</th>\n",
       "      <th>PM10</th>\n",
       "      <th>PM2_5</th>\n",
       "      <th>Pb</th>\n",
       "      <th>As</th>\n",
       "      <th>Ni</th>\n",
       "      <th>Cd</th>\n",
       "      <th>BaP</th>\n",
       "    </tr>\n",
       "  </thead>\n",
       "  <tbody>\n",
       "    <tr>\n",
       "      <th>0</th>\n",
       "      <td>BG</td>\n",
       "      <td>1.0</td>\n",
       "      <td>3.0</td>\n",
       "      <td>0.5</td>\n",
       "      <td>30.0</td>\n",
       "      <td>55.0</td>\n",
       "      <td>16.0</td>\n",
       "      <td>1.0</td>\n",
       "      <td>30.0</td>\n",
       "      <td>21.0</td>\n",
       "      <td>NaN</td>\n",
       "      <td>NaN</td>\n",
       "      <td>NaN</td>\n",
       "      <td>NaN</td>\n",
       "      <td>NaN</td>\n",
       "    </tr>\n",
       "    <tr>\n",
       "      <th>1</th>\n",
       "      <td>BG</td>\n",
       "      <td>NaN</td>\n",
       "      <td>NaN</td>\n",
       "      <td>NaN</td>\n",
       "      <td>24.0</td>\n",
       "      <td>42.0</td>\n",
       "      <td>4.0</td>\n",
       "      <td>0.0</td>\n",
       "      <td>37.0</td>\n",
       "      <td>29.0</td>\n",
       "      <td>0.014</td>\n",
       "      <td>1.5</td>\n",
       "      <td>4.0</td>\n",
       "      <td>0.2</td>\n",
       "      <td>0.5</td>\n",
       "    </tr>\n",
       "    <tr>\n",
       "      <th>2</th>\n",
       "      <td>BG</td>\n",
       "      <td>NaN</td>\n",
       "      <td>NaN</td>\n",
       "      <td>NaN</td>\n",
       "      <td>25.0</td>\n",
       "      <td>55.0</td>\n",
       "      <td>23.0</td>\n",
       "      <td>2.0</td>\n",
       "      <td>NaN</td>\n",
       "      <td>NaN</td>\n",
       "      <td>NaN</td>\n",
       "      <td>NaN</td>\n",
       "      <td>NaN</td>\n",
       "      <td>NaN</td>\n",
       "      <td>NaN</td>\n",
       "    </tr>\n",
       "    <tr>\n",
       "      <th>3</th>\n",
       "      <td>BG</td>\n",
       "      <td>NaN</td>\n",
       "      <td>3.0</td>\n",
       "      <td>NaN</td>\n",
       "      <td>NaN</td>\n",
       "      <td>NaN</td>\n",
       "      <td>NaN</td>\n",
       "      <td>NaN</td>\n",
       "      <td>NaN</td>\n",
       "      <td>NaN</td>\n",
       "      <td>NaN</td>\n",
       "      <td>NaN</td>\n",
       "      <td>NaN</td>\n",
       "      <td>NaN</td>\n",
       "      <td>NaN</td>\n",
       "    </tr>\n",
       "    <tr>\n",
       "      <th>4</th>\n",
       "      <td>BG</td>\n",
       "      <td>NaN</td>\n",
       "      <td>NaN</td>\n",
       "      <td>NaN</td>\n",
       "      <td>32.0</td>\n",
       "      <td>NaN</td>\n",
       "      <td>NaN</td>\n",
       "      <td>NaN</td>\n",
       "      <td>NaN</td>\n",
       "      <td>25.0</td>\n",
       "      <td>NaN</td>\n",
       "      <td>NaN</td>\n",
       "      <td>NaN</td>\n",
       "      <td>NaN</td>\n",
       "      <td>NaN</td>\n",
       "    </tr>\n",
       "  </tbody>\n",
       "</table>\n",
       "</div>"
      ],
      "text/plain": [
       "  PROVINCIA  C6H6  SO2   CO   NO2    O3  O3_GIORNI_SUPERAMENTO_TOLLERANZA  \\\n",
       "0        BG   1.0  3.0  0.5  30.0  55.0                              16.0   \n",
       "1        BG   NaN  NaN  NaN  24.0  42.0                               4.0   \n",
       "2        BG   NaN  NaN  NaN  25.0  55.0                              23.0   \n",
       "3        BG   NaN  3.0  NaN   NaN   NaN                               NaN   \n",
       "4        BG   NaN  NaN  NaN  32.0   NaN                               NaN   \n",
       "\n",
       "   O3_GIORNI_SUPERAMENTO_ALLARME  PM10  PM2_5     Pb   As   Ni   Cd  BaP  \n",
       "0                            1.0  30.0   21.0    NaN  NaN  NaN  NaN  NaN  \n",
       "1                            0.0  37.0   29.0  0.014  1.5  4.0  0.2  0.5  \n",
       "2                            2.0   NaN    NaN    NaN  NaN  NaN  NaN  NaN  \n",
       "3                            NaN   NaN    NaN    NaN  NaN  NaN  NaN  NaN  \n",
       "4                            NaN   NaN   25.0    NaN  NaN  NaN  NaN  NaN  "
      ]
     },
     "execution_count": 18,
     "metadata": {},
     "output_type": "execute_result"
    }
   ],
   "source": [
    "df.head()"
   ]
  },
  {
   "cell_type": "code",
   "execution_count": 19,
   "metadata": {},
   "outputs": [
    {
     "data": {
      "text/plain": [
       "11.207792207792208"
      ]
     },
     "execution_count": 19,
     "metadata": {},
     "output_type": "execute_result"
    }
   ],
   "source": [
    "np.mean(df.O3_GIORNI_SUPERAMENTO_TOLLERANZA)"
   ]
  },
  {
   "cell_type": "code",
   "execution_count": 20,
   "metadata": {},
   "outputs": [
    {
     "data": {
      "text/plain": [
       "7.972904866406626"
      ]
     },
     "execution_count": 20,
     "metadata": {},
     "output_type": "execute_result"
    }
   ],
   "source": [
    "np.std(df.O3_GIORNI_SUPERAMENTO_TOLLERANZA)"
   ]
  },
  {
   "cell_type": "markdown",
   "metadata": {},
   "source": [
    "14 - Ci sono buoni motivi per pensare che X segua la legge binomiale? Si giustifichi la risposta."
   ]
  },
  {
   "cell_type": "markdown",
   "metadata": {},
   "source": [
    "In generale una distribuzione binomiale di parametri $n, p$ permette di calcolare la probabilità di avere $k$ successi su un numero $n$ di tentativi, dove la probabilità di ogni successo è $p$. \n",
    "Nel nostro caso i successi sarebbero intesi come il numero di giorni all'interno dell'anno ($n=365$) in cui la soglia di tolleranza viene superata.\n",
    "\n",
    "La media di questa distribuzione è $np$, mentre la varianza è $np(1-p)$. Dalle nostre stime abbiamo che:\n",
    "\n",
    "$$ np = 11.2 $$\n",
    "\n",
    "e\n",
    "\n",
    "$$ np(1-p) = 7.97^2 $$\n",
    "\n",
    "(la deviazione standard è la radice della varianza).\n",
    "\n",
    "Dal momento che $n=365$, dalla prima equazione otteniamo:\n",
    "\n",
    "$$ p = 11.2 / 365 \\simeq 0.03 $$\n",
    "\n",
    "E, sostituendo nella seconda:\n",
    "\n",
    "$$ np(1-p) = 365*0.03(1-0.03) = 10.62 \\neq 7.97^2 $$\n",
    "\n",
    "Abbiamo che la varianza empirica è molto diversa da quella predetta dal modello, per cui l'assunzione di una distribuzione binomiale non è giustificata."
   ]
  }
 ],
 "metadata": {
  "kernelspec": {
   "display_name": "Python 3",
   "language": "python",
   "name": "python3"
  },
  "language_info": {
   "codemirror_mode": {
    "name": "ipython",
    "version": 3
   },
   "file_extension": ".py",
   "mimetype": "text/x-python",
   "name": "python",
   "nbconvert_exporter": "python",
   "pygments_lexer": "ipython3",
   "version": "3.6.1"
  }
 },
 "nbformat": 4,
 "nbformat_minor": 2
}
